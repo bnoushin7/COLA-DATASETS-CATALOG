{
 "cells": [
  {
   "cell_type": "code",
   "execution_count": 15,
   "metadata": {},
   "outputs": [],
   "source": [
    "import os\n",
    "import re \n",
    "os.chdir(\"C://Users//Noushin//Desktop\")"
   ]
  },
  {
   "cell_type": "markdown",
   "metadata": {},
   "source": [
    "# Monthly_data"
   ]
  },
  {
   "cell_type": "code",
   "execution_count": 17,
   "metadata": {},
   "outputs": [],
   "source": [
    "outp = open('final_monthly.txt', 'w')\n",
    "with open(\"mon_6th_res_edited.txt\") as fp:\n",
    "    lines = fp.readlines()\n",
    "    tags = 'gridded,global,model,monthly'\n",
    "    for line in lines:\n",
    "        _path , _file = os.path.split(line)\n",
    "        _name = re.match('.*_',_file)\n",
    "        try:\n",
    "            _name = _name.group(0)\n",
    "            dataset_name = _name.replace('_','')\n",
    "            gen_name = _name+'*.nc'\n",
    "            gen_full = _path+gen_name\n",
    "            outp.write('\"'+gen_full+ '\"'+ '\\t'+ dataset_name + '\\t' + tags+  '\\n')\n",
    "        except:\n",
    "            print(line)\n",
    "outp.close()\n",
    "        \n",
    "    "
   ]
  },
  {
   "cell_type": "code",
   "execution_count": 25,
   "metadata": {},
   "outputs": [],
   "source": [
    "outp = open('fake_monthly.txt', 'w')\n",
    "with open(\"mon_6th_res_edited.txt\") as fp:\n",
    "    lines = fp.readlines()\n",
    "    tags = 'gridded,global,model,monthly'\n",
    "    for line in lines:\n",
    "        _path , _file = os.path.split(line)\n",
    "        _name = re.match('.*_',_file)\n",
    "        try:\n",
    "            _name = _name.group(0)\n",
    "            dataset_name = _name.replace('_','')\n",
    "            gen_name = _name+'*.nc'\n",
    "            gen_full = _path + \"/\" + gen_name\n",
    "            outp.write('\"'+gen_full+ '\"'+'\\n')\n",
    "        except:\n",
    "            print(line)\n",
    "outp.close()\n",
    "        \n",
    "    "
   ]
  },
  {
   "cell_type": "markdown",
   "metadata": {},
   "source": [
    "# Daily_data"
   ]
  },
  {
   "cell_type": "code",
   "execution_count": 23,
   "metadata": {},
   "outputs": [],
   "source": [
    "outp = open('final_daily.txt', 'w')\n",
    "with open(\"day_6th_res.txt\") as fp:\n",
    "    lines = fp.readlines()\n",
    "    tags = 'gridded,global,model,daily'\n",
    "    for line in lines:\n",
    "        _path , _file = os.path.split(line)\n",
    "        _name = re.match('.*_',_file)\n",
    "        try:\n",
    "            _name = _name.group(0)\n",
    "            dataset_name = _name.replace('_','')\n",
    "            gen_name = _name+'*.nc'\n",
    "            gen_full = _path+gen_name\n",
    "            outp.write('\"'+gen_full+ '\"' + '\\t'+ dataset_name + '\\t' + tags+  '\\n')\n",
    "        except:\n",
    "            print(line)\n",
    "outp.close()"
   ]
  },
  {
   "cell_type": "code",
   "execution_count": 26,
   "metadata": {},
   "outputs": [],
   "source": [
    "outp = open('fake_daily.txt', 'w')\n",
    "with open(\"day_6th_res.txt\") as fp:\n",
    "    lines = fp.readlines()\n",
    "    tags = 'gridded,global,model,daily'\n",
    "    for line in lines:\n",
    "        _path , _file = os.path.split(line)\n",
    "        _name = re.match('.*_',_file)\n",
    "        try:\n",
    "            _name = _name.group(0)\n",
    "            dataset_name = _name.replace('_','')\n",
    "            gen_name = _name+'*.nc'\n",
    "            gen_full = _path + \"/\" + gen_name\n",
    "            outp.write('\"'+gen_full+ '\"' +  '\\n')\n",
    "        except:\n",
    "            print(line)\n",
    "outp.close()"
   ]
  },
  {
   "cell_type": "code",
   "execution_count": null,
   "metadata": {},
   "outputs": [],
   "source": []
  }
 ],
 "metadata": {
  "kernelspec": {
   "display_name": "Python 3",
   "language": "python",
   "name": "python3"
  },
  "language_info": {
   "codemirror_mode": {
    "name": "ipython",
    "version": 3
   },
   "file_extension": ".py",
   "mimetype": "text/x-python",
   "name": "python",
   "nbconvert_exporter": "python",
   "pygments_lexer": "ipython3",
   "version": "3.7.3"
  }
 },
 "nbformat": 4,
 "nbformat_minor": 4
}
